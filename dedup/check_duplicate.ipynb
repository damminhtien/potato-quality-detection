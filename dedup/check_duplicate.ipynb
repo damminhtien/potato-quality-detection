{
 "cells": [
  {
   "cell_type": "code",
   "execution_count": 2,
   "metadata": {},
   "outputs": [
    {
     "name": "stdout",
     "output_type": "stream",
     "text": [
      "FastDup Software, (C) copyright 2022 Dr. Amir Alush and Dr. Danny Bickson.\n",
      "2023-05-17 20:09:04 [INFO] Going to loop over dir fresh potato\n",
      "2023-05-17 20:09:04 [INFO] Found total 2188 images to run on, 2188 train, 0 test, name list 2188, counter 2188 \n",
      "2023-05-17 20:09:08 [INFO] Found total 2188 images to run ontimated: 0 Minutes\n",
      "Finished histogram 0.402\n",
      "Finished bucket sort 0.596\n",
      "2023-05-17 20:09:08 [INFO] 38) Finished write_index() NN model\n",
      "2023-05-17 20:09:08 [INFO] Stored nn model index file work_dir/nnf.index\n",
      "2023-05-17 20:09:08 [INFO] Total time took 4067 ms\n",
      "2023-05-17 20:09:08 [INFO] Found a total of 808 fully identical images (d>0.990), which are 18.46 %\n",
      "2023-05-17 20:09:08 [INFO] Found a total of 98 nearly identical images(d>0.980), which are 2.24 %\n",
      "2023-05-17 20:09:08 [INFO] Found a total of 1615 above threshold images (d>0.900), which are 36.91 %\n",
      "2023-05-17 20:09:08 [INFO] Found a total of 228 outlier images         (d<0.050), which are 5.21 %\n",
      "2023-05-17 20:09:08 [INFO] Min distance found 0.236 max distance 1.000\n",
      "2023-05-17 20:09:08 [INFO] Running connected components for ccthreshold 0.960000 \n",
      ".0\n",
      " ########################################################################################\n",
      "\n",
      "Dataset Analysis Summary: \n",
      "\n",
      "    Dataset contains 2188 images\n",
      "    Valid images are 100.00% (2,188) of the data, invalid are 0.00% (0) of the data\n",
      "    Similarity:  16.54% (362) belong to 11 similarity clusters (components).\n",
      "    83.46% (1,826) images do not belong to any similarity cluster.\n",
      "    Largest cluster has 36 (1.65%) images.\n",
      "    For a detailed analysis, use `.connected_components()`\n",
      "(similarity threshold used is 0.9, connected component threshold used is 0.96).\n",
      "\n",
      "    Outliers: 6.44% (141) of images are possible outliers, and fall in the bottom 5.00% of similarity values.\n",
      "    For a detailed list of outliers, use `.outliers()`.\n"
     ]
    }
   ],
   "source": [
    "import fastdup\n",
    "\n",
    "fd = fastdup.create('./work_dir', './fresh potato')\n",
    "fd.run()"
   ]
  },
  {
   "cell_type": "code",
   "execution_count": 3,
   "metadata": {},
   "outputs": [
    {
     "name": "stderr",
     "output_type": "stream",
     "text": [
      "100%|██████████| 20/20 [00:00<00:00, 118.54it/s]\n"
     ]
    },
    {
     "name": "stdout",
     "output_type": "stream",
     "text": [
      "Stored similarity visual view in  work_dir/galleries/duplicates.html\n"
     ]
    }
   ],
   "source": [
    "fd.vis.duplicates_gallery()    # create a visual gallery of found duplicates"
   ]
  },
  {
   "cell_type": "code",
   "execution_count": 4,
   "metadata": {},
   "outputs": [
    {
     "name": "stderr",
     "output_type": "stream",
     "text": [
      "100%|██████████| 20/20 [00:00<00:00, 19209.09it/s]\n"
     ]
    },
    {
     "name": "stdout",
     "output_type": "stream",
     "text": [
      "Stored outliers visual view in  work_dir/galleries/outliers.html\n"
     ]
    },
    {
     "name": "stderr",
     "output_type": "stream",
     "text": [
      "100%|██████████| 20/20 [00:00<00:00, 79.62it/s]\n"
     ]
    },
    {
     "name": "stdout",
     "output_type": "stream",
     "text": [
      "Finished OK. Components are stored as image files work_dir/galleries/components_[index].jpg\n",
      "Stored components visual view in  work_dir/galleries/components.html\n",
      "Execution time in seconds 0.6\n"
     ]
    },
    {
     "name": "stderr",
     "output_type": "stream",
     "text": [
      "100%|██████████| 20/20 [00:00<00:00, 630.63it/s]\n"
     ]
    },
    {
     "name": "stdout",
     "output_type": "stream",
     "text": [
      "Stored mean visual view in  work_dir/galleries/mean.html\n",
      "Warning: you are running create_similarity_gallery() without providing get_label_func so similarities are not computed between different classes. It is recommended to run this report with labels. Without labels this report output is similar to create_duplicate_gallery()\n"
     ]
    },
    {
     "name": "stderr",
     "output_type": "stream",
     "text": [
      "100%|██████████| 20/20 [00:00<00:00, 110.53it/s]\n"
     ]
    },
    {
     "name": "stdout",
     "output_type": "stream",
     "text": [
      "Stored similar images visual view in  work_dir/galleries/similarity.html\n"
     ]
    },
    {
     "data": {
      "text/html": [
       "<div>\n",
       "<style scoped>\n",
       "    .dataframe tbody tr th:only-of-type {\n",
       "        vertical-align: middle;\n",
       "    }\n",
       "\n",
       "    .dataframe tbody tr th {\n",
       "        vertical-align: top;\n",
       "    }\n",
       "\n",
       "    .dataframe thead th {\n",
       "        text-align: right;\n",
       "    }\n",
       "</style>\n",
       "<table border=\"1\" class=\"dataframe\">\n",
       "  <thead>\n",
       "    <tr style=\"text-align: right;\">\n",
       "      <th></th>\n",
       "      <th>from</th>\n",
       "      <th>to</th>\n",
       "      <th>distance</th>\n",
       "    </tr>\n",
       "  </thead>\n",
       "  <tbody>\n",
       "    <tr>\n",
       "      <th>818</th>\n",
       "      <td>fresh potato/images - 2023-05-17T194339.055.jpeg</td>\n",
       "      <td>[fresh potato/images - 2023-05-17T194248.099.jpeg, fresh potato/images - 2023-05-17T193739.084.jpeg, fresh potato/images - 2023-05-17T194231.205.jpeg]</td>\n",
       "      <td>[1.0, 1.0, 1.0]</td>\n",
       "    </tr>\n",
       "    <tr>\n",
       "      <th>670</th>\n",
       "      <td>fresh potato/images - 2023-05-17T194102.874.jpeg</td>\n",
       "      <td>[fresh potato/images - 2023-05-17T194224.306.jpeg, fresh potato/images - 2023-05-17T193639.542.jpeg, fresh potato/images - 2023-05-17T194652.395.jpeg]</td>\n",
       "      <td>[1.0, 1.0, 1.0]</td>\n",
       "    </tr>\n",
       "    <tr>\n",
       "      <th>719</th>\n",
       "      <td>fresh potato/images - 2023-05-17T194224.407.jpeg</td>\n",
       "      <td>[fresh potato/images - 2023-05-17T194248.139.jpeg, fresh potato/images - 2023-05-17T194342.430.jpeg, fresh potato/images - 2023-05-17T193735.741.jpeg]</td>\n",
       "      <td>[1.0, 1.0, 1.0]</td>\n",
       "    </tr>\n",
       "    <tr>\n",
       "      <th>766</th>\n",
       "      <td>fresh potato/images - 2023-05-17T194248.196.jpeg</td>\n",
       "      <td>[fresh potato/images - 2023-05-17T194224.306.jpeg, fresh potato/images - 2023-05-17T193639.542.jpeg, fresh potato/images - 2023-05-17T194652.395.jpeg]</td>\n",
       "      <td>[1.0, 1.0, 1.0]</td>\n",
       "    </tr>\n",
       "    <tr>\n",
       "      <th>672</th>\n",
       "      <td>fresh potato/images - 2023-05-17T194102.993.jpeg</td>\n",
       "      <td>[fresh potato/images - 2023-05-17T194248.139.jpeg, fresh potato/images - 2023-05-17T194342.430.jpeg, fresh potato/images - 2023-05-17T193735.741.jpeg]</td>\n",
       "      <td>[1.0, 1.0, 1.0]</td>\n",
       "    </tr>\n",
       "    <tr>\n",
       "      <th>...</th>\n",
       "      <td>...</td>\n",
       "      <td>...</td>\n",
       "      <td>...</td>\n",
       "    </tr>\n",
       "    <tr>\n",
       "      <th>296</th>\n",
       "      <td>fresh potato/images - 2023-05-17T193432.026.jpeg</td>\n",
       "      <td>[fresh potato/images - 2023-05-17T193808.736.jpeg]</td>\n",
       "      <td>[0.900581]</td>\n",
       "    </tr>\n",
       "    <tr>\n",
       "      <th>431</th>\n",
       "      <td>fresh potato/images - 2023-05-17T193741.967.jpeg</td>\n",
       "      <td>[fresh potato/images (46).jpeg]</td>\n",
       "      <td>[0.900382]</td>\n",
       "    </tr>\n",
       "    <tr>\n",
       "      <th>720</th>\n",
       "      <td>fresh potato/images - 2023-05-17T194224.654.jpeg</td>\n",
       "      <td>[fresh potato/download (69).jpeg]</td>\n",
       "      <td>[0.900278]</td>\n",
       "    </tr>\n",
       "    <tr>\n",
       "      <th>4</th>\n",
       "      <td>fresh potato/download (14).jpeg</td>\n",
       "      <td>[fresh potato/images - 2023-05-17T193642.084.jpeg]</td>\n",
       "      <td>[0.900273]</td>\n",
       "    </tr>\n",
       "    <tr>\n",
       "      <th>367</th>\n",
       "      <td>fresh potato/images - 2023-05-17T193642.084.jpeg</td>\n",
       "      <td>[fresh potato/download (14).jpeg]</td>\n",
       "      <td>[0.900273]</td>\n",
       "    </tr>\n",
       "  </tbody>\n",
       "</table>\n",
       "<p>988 rows × 3 columns</p>\n",
       "</div>"
      ],
      "text/plain": [
       "                                                 from                                                                                                                                                      to         distance\n",
       "818  fresh potato/images - 2023-05-17T194339.055.jpeg  [fresh potato/images - 2023-05-17T194248.099.jpeg, fresh potato/images - 2023-05-17T193739.084.jpeg, fresh potato/images - 2023-05-17T194231.205.jpeg]  [1.0, 1.0, 1.0]\n",
       "670  fresh potato/images - 2023-05-17T194102.874.jpeg  [fresh potato/images - 2023-05-17T194224.306.jpeg, fresh potato/images - 2023-05-17T193639.542.jpeg, fresh potato/images - 2023-05-17T194652.395.jpeg]  [1.0, 1.0, 1.0]\n",
       "719  fresh potato/images - 2023-05-17T194224.407.jpeg  [fresh potato/images - 2023-05-17T194248.139.jpeg, fresh potato/images - 2023-05-17T194342.430.jpeg, fresh potato/images - 2023-05-17T193735.741.jpeg]  [1.0, 1.0, 1.0]\n",
       "766  fresh potato/images - 2023-05-17T194248.196.jpeg  [fresh potato/images - 2023-05-17T194224.306.jpeg, fresh potato/images - 2023-05-17T193639.542.jpeg, fresh potato/images - 2023-05-17T194652.395.jpeg]  [1.0, 1.0, 1.0]\n",
       "672  fresh potato/images - 2023-05-17T194102.993.jpeg  [fresh potato/images - 2023-05-17T194248.139.jpeg, fresh potato/images - 2023-05-17T194342.430.jpeg, fresh potato/images - 2023-05-17T193735.741.jpeg]  [1.0, 1.0, 1.0]\n",
       "..                                                ...                                                                                                                                                     ...              ...\n",
       "296  fresh potato/images - 2023-05-17T193432.026.jpeg                                                                                                      [fresh potato/images - 2023-05-17T193808.736.jpeg]       [0.900581]\n",
       "431  fresh potato/images - 2023-05-17T193741.967.jpeg                                                                                                                         [fresh potato/images (46).jpeg]       [0.900382]\n",
       "720  fresh potato/images - 2023-05-17T194224.654.jpeg                                                                                                                       [fresh potato/download (69).jpeg]       [0.900278]\n",
       "4                     fresh potato/download (14).jpeg                                                                                                      [fresh potato/images - 2023-05-17T193642.084.jpeg]       [0.900273]\n",
       "367  fresh potato/images - 2023-05-17T193642.084.jpeg                                                                                                                       [fresh potato/download (14).jpeg]       [0.900273]\n",
       "\n",
       "[988 rows x 3 columns]"
      ]
     },
     "execution_count": 4,
     "metadata": {},
     "output_type": "execute_result"
    }
   ],
   "source": [
    "fd.vis.outliers_gallery()      # create a visual gallery of anomalies\n",
    "fd.vis.component_gallery()     # create a visualization of connected components\n",
    "fd.vis.stats_gallery()         # create a visualization of images statistics (for example blur)\n",
    "fd.vis.similarity_gallery()    # create a gallery of similar images"
   ]
  },
  {
   "cell_type": "code",
   "execution_count": null,
   "metadata": {},
   "outputs": [],
   "source": []
  }
 ],
 "metadata": {
  "kernelspec": {
   "display_name": "crawler",
   "language": "python",
   "name": "python3"
  },
  "language_info": {
   "codemirror_mode": {
    "name": "ipython",
    "version": 3
   },
   "file_extension": ".py",
   "mimetype": "text/x-python",
   "name": "python",
   "nbconvert_exporter": "python",
   "pygments_lexer": "ipython3",
   "version": "3.9.16"
  },
  "orig_nbformat": 4
 },
 "nbformat": 4,
 "nbformat_minor": 2
}
